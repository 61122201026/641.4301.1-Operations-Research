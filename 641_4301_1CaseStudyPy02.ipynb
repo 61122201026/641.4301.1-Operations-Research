{
  "nbformat": 4,
  "nbformat_minor": 0,
  "metadata": {
    "colab": {
      "name": "641.4301.1CaseStudyPy02",
      "provenance": [],
      "collapsed_sections": []
    },
    "kernelspec": {
      "name": "python3",
      "display_name": "Python 3"
    },
    "language_info": {
      "name": "python"
    }
  },
  "cells": [
    {
      "cell_type": "code",
      "metadata": {
        "colab": {
          "base_uri": "https://localhost:8080/"
        },
        "id": "S71nx8zgGl4U",
        "outputId": "593c7a5d-f3f2-4475-e7fc-fabe9f9b4284"
      },
      "source": [
        "!pip install ortools"
      ],
      "execution_count": null,
      "outputs": [
        {
          "output_type": "stream",
          "text": [
            "Collecting ortools\n",
            "  Downloading ortools-9.0.9048-cp37-cp37m-manylinux1_x86_64.whl (14.4 MB)\n",
            "\u001b[K     |████████████████████████████████| 14.4 MB 94 kB/s \n",
            "\u001b[?25hRequirement already satisfied: protobuf>=3.15.8 in /usr/local/lib/python3.7/dist-packages (from ortools) (3.17.3)\n",
            "Requirement already satisfied: absl-py>=0.11 in /usr/local/lib/python3.7/dist-packages (from ortools) (0.12.0)\n",
            "Requirement already satisfied: six in /usr/local/lib/python3.7/dist-packages (from absl-py>=0.11->ortools) (1.15.0)\n",
            "Installing collected packages: ortools\n",
            "Successfully installed ortools-9.0.9048\n"
          ],
          "name": "stdout"
        }
      ]
    },
    {
      "cell_type": "code",
      "metadata": {
        "id": "kXx1w8rMGNmV"
      },
      "source": [
        "# [START program]\n",
        "# [START import]\n",
        "from ortools.linear_solver import pywraplp\n",
        "# [END import]"
      ],
      "execution_count": null,
      "outputs": []
    },
    {
      "cell_type": "code",
      "metadata": {
        "colab": {
          "base_uri": "https://localhost:8080/"
        },
        "id": "qqY5SG0yGUvz",
        "outputId": "f311326b-da25-45d9-b4ca-776f1cba7d31"
      },
      "source": [
        "# [START solver]\n",
        "# Create the linear solver with the GLOP backend.\n",
        "solver = pywraplp.Solver.CreateSolver('GLOP')\n",
        "# [END solver]\n",
        "\n",
        "# [START variables]\n",
        "infinity = solver.infinity()\n",
        "# Create the variables x and y.\n",
        "x = solver.NumVar(0.0, infinity, 'x')\n",
        "y = solver.NumVar(0.0, infinity, 'y')\n",
        "\n",
        "print('Number of variables =', solver.NumVariables())\n",
        "# [END variables]\n",
        "\n",
        "# [START constraints]\n",
        "# 7.50*x + 6.90 * y <= 1000.\n",
        "solver.Add((7.50*x) + (6.90 * y )<= 1000)\n",
        "\n",
        "# 6.80*x + 7.25*y <= 600\n",
        "solver.Add((6.80*x)+(7.25*y) <= 600)\n",
        "\n",
        "# 5.50*x + 6.10*y <= 700.\n",
        "solver.Add((5.50 *x)+(6.10*y) <= 700)\n",
        "\n",
        "print('Number of constraints =', solver.NumConstraints())\n",
        "# [END constraints]\n",
        "\n",
        "# [START objective]\n",
        "# Maximize 0.15*x + 0.20 * y.\n",
        "solver.Maximize((0.15*x) + (0.20 * y))\n",
        "# [END objective]\n",
        "\n",
        "# [START solve]\n",
        "status = solver.Solve()\n",
        "# [END solve]\n",
        "\n",
        "# [START print_solution]\n",
        "if status == pywraplp.Solver.OPTIMAL:\n",
        "    print('Solution:')\n",
        "    print('Objective value =', solver.Objective().Value())\n",
        "    print('x =', x.solution_value())\n",
        "    print('y =', y.solution_value())\n",
        "else:\n",
        "    print('The problem does not have an optimal solution.')\n",
        "# [END print_solution]\n",
        "\n",
        "# [START advanced]\n",
        "print('\\nAdvanced usage:')\n",
        "print('Problem solved in %f milliseconds' % solver.wall_time())\n",
        "print('Problem solved in %d iterations' % solver.iterations())\n",
        "# [END advanced]\n"
      ],
      "execution_count": null,
      "outputs": [
        {
          "output_type": "stream",
          "text": [
            "Number of variables = 2\n",
            "Number of constraints = 3\n",
            "Solution:\n",
            "Objective value = 16.551724137931043\n",
            "x = 0.0\n",
            "y = 82.7586206896552\n",
            "\n",
            "Advanced usage:\n",
            "Problem solved in 3.000000 milliseconds\n",
            "Problem solved in 1 iterations\n"
          ],
          "name": "stdout"
        }
      ]
    },
    {
      "cell_type": "code",
      "metadata": {
        "id": "tJ-V4CHCFPzA"
      },
      "source": [
        ""
      ],
      "execution_count": null,
      "outputs": []
    }
  ]
}